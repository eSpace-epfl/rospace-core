{
 "cells": [
  {
   "cell_type": "code",
   "execution_count": 8,
   "metadata": {
    "collapsed": false
   },
   "outputs": [
    {
     "name": "stdout",
     "output_type": "stream",
     "text": [
      "<space_tf.Cartesian.Cartesian object at 0x7fa469a8ca10>\n",
      "[ -6669.485 -25385.17       0.   ]\n",
      "[ -2.03848264e-05  -3.16455990e-05   5.88454158e-06]\n",
      "0.939285203123\n",
      "a: 8788.08176728, e: 0.171211181954, i: 2.67470361378, w: 0.35025511728, O: 4.45546404122, v: 0.496472955354, E: 0.420141916236, M: 0.350306581905\n",
      "OMEGA: 255.279285334\n",
      "ARGPER: 20.068139973\n",
      "TRUA: 28.4458049842\n",
      "INCL: 153.249228518\n"
     ]
    }
   ],
   "source": [
    "import space_tf as stf\n",
    "import numpy as np\n",
    "\n",
    "r = np.array([-6045, -3490, 2500])\n",
    "v = np.array([-3.457, 6.618, 2.533])\n",
    "\n",
    "hans_cart = stf.Cartesian()\n",
    "hans_cart.R = r\n",
    "hans_cart.V = v\n",
    "print hans_cart\n",
    "hans= stf.KepOrbElem()\n",
    "hans.from_cartesian(hans_cart)\n",
    "print hans\n",
    "print \"OMEGA:\", np.rad2deg(hans.O)\n",
    "print \"ARGPER:\", np.rad2deg(hans.w)\n",
    "print \"TRUA:\", np.rad2deg(hans.v)\n",
    "print \"INCL:\", np.rad2deg(hans.i)"
   ]
  },
  {
   "cell_type": "code",
   "execution_count": null,
   "metadata": {
    "collapsed": true
   },
   "outputs": [],
   "source": []
  }
 ],
 "metadata": {
  "kernelspec": {
   "display_name": "Python 2",
   "language": "python",
   "name": "python2"
  },
  "language_info": {
   "codemirror_mode": {
    "name": "ipython",
    "version": 2
   },
   "file_extension": ".py",
   "mimetype": "text/x-python",
   "name": "python",
   "nbconvert_exporter": "python",
   "pygments_lexer": "ipython2",
   "version": "2.7.13"
  }
 },
 "nbformat": 4,
 "nbformat_minor": 2
}
